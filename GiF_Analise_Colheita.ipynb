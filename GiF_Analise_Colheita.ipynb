{
  "nbformat": 4,
  "nbformat_minor": 0,
  "metadata": {
    "colab": {
      "name": "GiF_Analise_Colheita.ipynb",
      "provenance": [],
      "collapsed_sections": [
        "axX3W5Wmj0ac"
      ],
      "authorship_tag": "ABX9TyNBUmDwAEg48r7UzYRWeGrA",
      "include_colab_link": true
    },
    "kernelspec": {
      "name": "python3",
      "display_name": "Python 3"
    },
    "widgets": {
      "application/vnd.jupyter.widget-state+json": {
        "172c36a54e534fc182c863d96143c5dc": {
          "model_module": "@jupyter-widgets/output",
          "model_name": "OutputModel",
          "model_module_version": "1.0.0",
          "state": {
            "_view_name": "OutputView",
            "msg_id": "",
            "_dom_classes": [],
            "_model_name": "OutputModel",
            "outputs": [
              {
                "output_type": "display_data",
                "data": {
                  "application/vnd.jupyter.widget-view+json": {
                    "model_id": "59c223dc4d2543638229eb6b86e225b9",
                    "version_minor": 0,
                    "version_major": 2
                  },
                  "text/plain": [
                    "Image(value=b'GIF89a\\x00\\x03\\x00\\x03\\x87\\x1f\\x00\\xff\\xff\\xff\\xfc\\xfc\\xff\\xd8\\xfc\\xff\\xfe\\xfe\\xfe\\xfd\\xfd\\xfd\\x…"
                  ]
                },
                "metadata": {
                  "tags": []
                }
              }
            ],
            "_view_module": "@jupyter-widgets/output",
            "_model_module_version": "1.0.0",
            "_view_count": null,
            "_view_module_version": "1.0.0",
            "layout": "IPY_MODEL_4f006f5007ea4daabd2eb962bf106fd4",
            "_model_module": "@jupyter-widgets/output"
          }
        },
        "59c223dc4d2543638229eb6b86e225b9": {
          "model_module": "@jupyter-widgets/controls",
          "model_name": "ImageModel",
          "model_module_version": "1.5.0",
          "state": {
            "_view_name": "ImageView",
            "_dom_classes": [],
            "_model_name": "ImageModel",
            "format": "png",
            "_view_module": "@jupyter-widgets/controls",
            "_model_module_version": "1.5.0",
            "_view_count": null,
            "width": "",
            "_view_module_version": "1.5.0",
            "layout": "IPY_MODEL_712da9b421634460a2ac6b7803d6dee4",
            "height": "",
            "_model_module": "@jupyter-widgets/controls"
          }
        },
        "4f006f5007ea4daabd2eb962bf106fd4": {
          "model_module": "@jupyter-widgets/base",
          "model_name": "LayoutModel",
          "model_module_version": "1.2.0",
          "state": {
            "_view_name": "LayoutView",
            "grid_template_rows": null,
            "right": null,
            "justify_content": null,
            "_view_module": "@jupyter-widgets/base",
            "overflow": null,
            "_model_module_version": "1.2.0",
            "_view_count": null,
            "flex_flow": null,
            "width": null,
            "min_width": null,
            "border": null,
            "align_items": null,
            "bottom": null,
            "_model_module": "@jupyter-widgets/base",
            "top": null,
            "grid_column": null,
            "overflow_y": null,
            "overflow_x": null,
            "grid_auto_flow": null,
            "grid_area": null,
            "grid_template_columns": null,
            "flex": null,
            "_model_name": "LayoutModel",
            "justify_items": null,
            "grid_row": null,
            "max_height": null,
            "align_content": null,
            "visibility": null,
            "align_self": null,
            "height": null,
            "min_height": null,
            "padding": null,
            "grid_auto_rows": null,
            "grid_gap": null,
            "max_width": null,
            "order": null,
            "_view_module_version": "1.2.0",
            "grid_template_areas": null,
            "object_position": null,
            "object_fit": null,
            "grid_auto_columns": null,
            "margin": null,
            "display": null,
            "left": null
          }
        },
        "712da9b421634460a2ac6b7803d6dee4": {
          "model_module": "@jupyter-widgets/base",
          "model_name": "LayoutModel",
          "model_module_version": "1.2.0",
          "state": {
            "_view_name": "LayoutView",
            "grid_template_rows": null,
            "right": null,
            "justify_content": null,
            "_view_module": "@jupyter-widgets/base",
            "overflow": null,
            "_model_module_version": "1.2.0",
            "_view_count": null,
            "flex_flow": null,
            "width": null,
            "min_width": null,
            "border": null,
            "align_items": null,
            "bottom": null,
            "_model_module": "@jupyter-widgets/base",
            "top": null,
            "grid_column": null,
            "overflow_y": null,
            "overflow_x": null,
            "grid_auto_flow": null,
            "grid_area": null,
            "grid_template_columns": null,
            "flex": null,
            "_model_name": "LayoutModel",
            "justify_items": null,
            "grid_row": null,
            "max_height": null,
            "align_content": null,
            "visibility": null,
            "align_self": null,
            "height": null,
            "min_height": null,
            "padding": null,
            "grid_auto_rows": null,
            "grid_gap": null,
            "max_width": null,
            "order": null,
            "_view_module_version": "1.2.0",
            "grid_template_areas": null,
            "object_position": null,
            "object_fit": null,
            "grid_auto_columns": null,
            "margin": null,
            "display": null,
            "left": null
          }
        }
      }
    }
  },
  "cells": [
    {
      "cell_type": "markdown",
      "metadata": {
        "id": "view-in-github",
        "colab_type": "text"
      },
      "source": [
        "<a href=\"https://colab.research.google.com/github/Padawanh/GEE_analysis/blob/main/GiF_Analise_Colheita.ipynb\" target=\"_parent\"><img src=\"https://colab.research.google.com/assets/colab-badge.svg\" alt=\"Open In Colab\"/></a>"
      ]
    },
    {
      "cell_type": "code",
      "metadata": {
        "id": "bfsFPyswvJVS"
      },
      "source": [
        "!pip install geemap\n"
      ],
      "execution_count": null,
      "outputs": []
    },
    {
      "cell_type": "code",
      "metadata": {
        "id": "2-SUc8F3N1Iu"
      },
      "source": [
        "import ee\n",
        "import geemap\n",
        "import os\n",
        "import datetime\n",
        "Map = geemap.Map()"
      ],
      "execution_count": null,
      "outputs": []
    },
    {
      "cell_type": "code",
      "metadata": {
        "id": "-gy_fWsnwfdB"
      },
      "source": [
        "#geemap.update_package()"
      ],
      "execution_count": null,
      "outputs": []
    },
    {
      "cell_type": "code",
      "metadata": {
        "id": "1rn8lj2nh449"
      },
      "source": [
        "#Coordenadas Talhão MA02WFCO3A\n",
        "geoP = ee.Geometry.Point([-49.30104 , -25.05251])\n",
        "start , end ,porcentagemNuvem  = '2021-04-01','2021-08-31' , 10"
      ],
      "execution_count": 48,
      "outputs": []
    },
    {
      "cell_type": "markdown",
      "metadata": {
        "id": "axX3W5Wmj0ac"
      },
      "source": [
        "#Processamento"
      ]
    },
    {
      "cell_type": "code",
      "metadata": {
        "colab": {
          "base_uri": "https://localhost:8080/",
          "height": 34
        },
        "id": "ysmRjm8utTA0",
        "outputId": "62295de7-8ffb-41cf-8ad4-56737dc1a0e6"
      },
      "source": [
        "Map = geemap.Map()\n",
        "\n",
        "pointColheita = ee.Feature(geoP)\n",
        "roi = pointColheita.buffer(500)\n",
        "geometry = geoP\n",
        "Map.centerObject(geometry,20)\n",
        "s2 = ee.ImageCollection(\"COPERNICUS/S2\")\n",
        "\n",
        "\n",
        "# Write a function for Cloud masking\n",
        "def maskS2clouds(image):\n",
        "  qa = image.select('QA60')\n",
        "  cloudBitMask = 1 << 10\n",
        "  cirrusBitMask = 1 << 11\n",
        "  mask = qa.bitwiseAnd(cloudBitMask).eq(0).And(\n",
        "             qa.bitwiseAnd(cirrusBitMask).eq(0))\n",
        "  return image.updateMask(mask) \\\n",
        "      .select(\"B.*\") \\\n",
        "      .copyProperties(image, [\"system:time_start\"])\n",
        "\n",
        "filtered = s2 \\\n",
        "  .filter(ee.Filter.date(start , end )) \\\n",
        "  .filter(ee.Filter.intersects('.geo', geometry)) \\\n",
        "  .map(maskS2clouds).filter(ee.Filter.lt('CLOUDY_PIXEL_PERCENTAGE',porcentagemNuvem))\n",
        "\n",
        "\n",
        "imgCol = filtered.map(lambda img: img.clip(roi))\n",
        "\n",
        "rgbVis = {\n",
        "  'min': 0.0,\n",
        "  'max': 3000,\n",
        "  'bands': ['B4', 'B3', 'B2'],\n",
        "}\n",
        "\n",
        "'''\n",
        "Map.addLayer(imgCol, rgbVis, 'RGB Composite')\n",
        "Map.addLayer(geometry,name='Amostras')\n",
        "Map\n",
        "'''"
      ],
      "execution_count": 49,
      "outputs": [
        {
          "output_type": "execute_result",
          "data": {
            "application/vnd.google.colaboratory.intrinsic+json": {
              "type": "string"
            },
            "text/plain": [
              "\"\\nMap.addLayer(imgCol, rgbVis, 'RGB Composite')\\nMap.addLayer(geometry,name='Amostras')\\nMap\\n\""
            ]
          },
          "metadata": {
            "tags": []
          },
          "execution_count": 49
        }
      ]
    },
    {
      "cell_type": "code",
      "metadata": {
        "colab": {
          "base_uri": "https://localhost:8080/"
        },
        "id": "H2td1Gl27jJD",
        "outputId": "7e164cfd-75f0-4018-8f74-12c49e269263"
      },
      "source": [
        "print(imgCol.size().getInfo())"
      ],
      "execution_count": 50,
      "outputs": [
        {
          "output_type": "stream",
          "text": [
            "6\n"
          ],
          "name": "stdout"
        }
      ]
    },
    {
      "cell_type": "code",
      "metadata": {
        "id": "oFRvhGc6F4gG"
      },
      "source": [
        "\n",
        "time = [str(datetime.datetime.fromtimestamp(x/1000).date()) for x in imgCol.aggregate_array('system:time_start').getInfo()]"
      ],
      "execution_count": 51,
      "outputs": []
    },
    {
      "cell_type": "code",
      "metadata": {
        "colab": {
          "base_uri": "https://localhost:8080/"
        },
        "id": "E7XfluwEiqm7",
        "outputId": "8cecb32d-0715-4d56-c121-dd553d9c58aa"
      },
      "source": [
        "\n",
        "work_dir = os.path.join(os.path.expanduser(\"~\"), 'Downloads')\n",
        "if not os.path.exists(work_dir):\n",
        "    os.makedirs(work_dir)\n",
        "out_gif = os.path.join(work_dir, \"landsat_ts.gif\")\n",
        "geemap.download_ee_video(imgCol, rgbVis, out_gif)\n",
        "texted_gif = os.path.join(work_dir, \"landsat_ts_text.gif\")\n",
        "geemap.add_text_to_gif(out_gif, texted_gif, xy=('3%', '5%'), text_sequence=time, font_size=15, font_color='#ffffff', add_progress_bar=False,duration = 1250)"
      ],
      "execution_count": 52,
      "outputs": [
        {
          "output_type": "stream",
          "text": [
            "Generating URL...\n",
            "Downloading GIF image from https://earthengine.googleapis.com/v1alpha/projects/earthengine-legacy/videoThumbnails/e6aa3e1729029950be5ea822def39bae-b52b7a4b094184997b2b567feeccb2d0:getPixels\n",
            "Please wait ...\n",
            "The GIF image has been saved to: /root/Downloads/landsat_ts.gif\n"
          ],
          "name": "stdout"
        }
      ]
    },
    {
      "cell_type": "markdown",
      "metadata": {
        "id": "xJsneaPVJU7l"
      },
      "source": [
        "#Resultado"
      ]
    },
    {
      "cell_type": "code",
      "metadata": {
        "colab": {
          "base_uri": "https://localhost:8080/",
          "height": 793,
          "referenced_widgets": [
            "172c36a54e534fc182c863d96143c5dc",
            "59c223dc4d2543638229eb6b86e225b9",
            "4f006f5007ea4daabd2eb962bf106fd4",
            "712da9b421634460a2ac6b7803d6dee4"
          ]
        },
        "id": "ujKf5jIiqOj6",
        "outputId": "d624fe6c-ea01-41e1-8d17-5abe44662629"
      },
      "source": [
        "geemap.show_image(texted_gif)"
      ],
      "execution_count": 53,
      "outputs": [
        {
          "output_type": "display_data",
          "data": {
            "application/vnd.jupyter.widget-view+json": {
              "model_id": "172c36a54e534fc182c863d96143c5dc",
              "version_minor": 0,
              "version_major": 2
            },
            "text/plain": [
              "Output()"
            ]
          },
          "metadata": {
            "tags": []
          }
        }
      ]
    }
  ]
}